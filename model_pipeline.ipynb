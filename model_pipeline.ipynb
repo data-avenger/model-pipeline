{
 "metadata": {
  "language_info": {
   "codemirror_mode": {
    "name": "ipython",
    "version": 3
   },
   "file_extension": ".py",
   "mimetype": "text/x-python",
   "name": "python",
   "nbconvert_exporter": "python",
   "pygments_lexer": "ipython3",
   "version": "3.9.5"
  },
  "orig_nbformat": 2,
  "kernelspec": {
   "name": "python395jvsc74a57bd0aee8b7b246df8f9039afb4144a1f6fd8d2ca17a180786b69acc140d282b71a49",
   "display_name": "Python 3.9.5 64-bit"
  },
  "metadata": {
   "interpreter": {
    "hash": "aee8b7b246df8f9039afb4144a1f6fd8d2ca17a180786b69acc140d282b71a49"
   }
  }
 },
 "nbformat": 4,
 "nbformat_minor": 2,
 "cells": [
  {
   "source": [
    "# Model Pipeline\n",
    "1. Run clean data script\n",
    "4. Run Models"
   ],
   "cell_type": "markdown",
   "metadata": {}
  },
  {
   "cell_type": "code",
   "execution_count": 7,
   "metadata": {},
   "outputs": [],
   "source": [
    "import pandas as pd\n",
    "from sklearn.linear_model import LinearRegression\n",
    "from sklearn.metrics import mean_squared_error\n",
    "from sklearn.model_selection import cross_validate, train_test_split\n",
    "from sklearn.neural_network import MLPRegressor\n",
    "from sklearn.pipeline import Pipeline\n",
    "from xgboost.sklearn import XGBRegressor\n",
    " "
   ]
  },
  {
   "cell_type": "code",
   "execution_count": 8,
   "metadata": {},
   "outputs": [
    {
     "output_type": "stream",
     "name": "stdout",
     "text": [
      "/System/Library/Frameworks/Python.framework/Versions/2.7/Resources/Python.app/Contents/MacOS/Python: No module named data_cleaning.py\n"
     ]
    }
   ],
   "source": [
    "# Run clean data script\n",
    "!python -m data_cleaning.py"
   ]
  },
  {
   "source": [
    "## View Data\n",
    "- X: `job, marital, ..., poutcome`\n",
    "- y: Column `y` with yes or no. \n",
    "\n",
    "Can we predict `y` with the features in `X`?"
   ],
   "cell_type": "markdown",
   "metadata": {}
  },
  {
   "cell_type": "code",
   "execution_count": 9,
   "metadata": {},
   "outputs": [
    {
     "output_type": "execute_result",
     "data": {
      "text/plain": [
       "          0         1         2         3         4         5    6    7    8  \\\n",
       "0  3.624479 -0.260707 -0.848202  0.090764 -0.957792 -0.275004  1.0  0.0  0.0   \n",
       "1  3.624479 -0.559058 -0.906743  0.037863 -0.941831  0.205213  0.0  1.0  0.0   \n",
       "2  3.624479 -0.288205 -1.086073 -0.009135 -1.097896  0.156832  0.0  1.0  0.0   \n",
       "3  3.624479 -0.616804 -0.906743  0.037863 -0.941831  0.205213  0.0  1.0  0.0   \n",
       "4  3.624479 -0.370698 -1.085888 -0.032525 -1.097735  0.132753  0.0  1.0  0.0   \n",
       "\n",
       "     9  ...  1703  1704  1705  1706  1707  1708  1709  1710  1711  1712  \n",
       "0  0.0  ...   0.0   0.0   0.0   0.0   0.0   0.0   0.0   0.0   0.0   0.0  \n",
       "1  0.0  ...   0.0   0.0   0.0   0.0   0.0   0.0   0.0   0.0   0.0   0.0  \n",
       "2  0.0  ...   0.0   0.0   0.0   0.0   0.0   0.0   0.0   0.0   0.0   0.0  \n",
       "3  0.0  ...   0.0   0.0   0.0   0.0   0.0   0.0   0.0   0.0   0.0   0.0  \n",
       "4  0.0  ...   0.0   0.0   0.0   0.0   0.0   0.0   0.0   0.0   0.0   0.0  \n",
       "\n",
       "[5 rows x 1713 columns]"
      ],
      "text/html": "<div>\n<style scoped>\n    .dataframe tbody tr th:only-of-type {\n        vertical-align: middle;\n    }\n\n    .dataframe tbody tr th {\n        vertical-align: top;\n    }\n\n    .dataframe thead th {\n        text-align: right;\n    }\n</style>\n<table border=\"1\" class=\"dataframe\">\n  <thead>\n    <tr style=\"text-align: right;\">\n      <th></th>\n      <th>0</th>\n      <th>1</th>\n      <th>2</th>\n      <th>3</th>\n      <th>4</th>\n      <th>5</th>\n      <th>6</th>\n      <th>7</th>\n      <th>8</th>\n      <th>9</th>\n      <th>...</th>\n      <th>1703</th>\n      <th>1704</th>\n      <th>1705</th>\n      <th>1706</th>\n      <th>1707</th>\n      <th>1708</th>\n      <th>1709</th>\n      <th>1710</th>\n      <th>1711</th>\n      <th>1712</th>\n    </tr>\n  </thead>\n  <tbody>\n    <tr>\n      <th>0</th>\n      <td>3.624479</td>\n      <td>-0.260707</td>\n      <td>-0.848202</td>\n      <td>0.090764</td>\n      <td>-0.957792</td>\n      <td>-0.275004</td>\n      <td>1.0</td>\n      <td>0.0</td>\n      <td>0.0</td>\n      <td>0.0</td>\n      <td>...</td>\n      <td>0.0</td>\n      <td>0.0</td>\n      <td>0.0</td>\n      <td>0.0</td>\n      <td>0.0</td>\n      <td>0.0</td>\n      <td>0.0</td>\n      <td>0.0</td>\n      <td>0.0</td>\n      <td>0.0</td>\n    </tr>\n    <tr>\n      <th>1</th>\n      <td>3.624479</td>\n      <td>-0.559058</td>\n      <td>-0.906743</td>\n      <td>0.037863</td>\n      <td>-0.941831</td>\n      <td>0.205213</td>\n      <td>0.0</td>\n      <td>1.0</td>\n      <td>0.0</td>\n      <td>0.0</td>\n      <td>...</td>\n      <td>0.0</td>\n      <td>0.0</td>\n      <td>0.0</td>\n      <td>0.0</td>\n      <td>0.0</td>\n      <td>0.0</td>\n      <td>0.0</td>\n      <td>0.0</td>\n      <td>0.0</td>\n      <td>0.0</td>\n    </tr>\n    <tr>\n      <th>2</th>\n      <td>3.624479</td>\n      <td>-0.288205</td>\n      <td>-1.086073</td>\n      <td>-0.009135</td>\n      <td>-1.097896</td>\n      <td>0.156832</td>\n      <td>0.0</td>\n      <td>1.0</td>\n      <td>0.0</td>\n      <td>0.0</td>\n      <td>...</td>\n      <td>0.0</td>\n      <td>0.0</td>\n      <td>0.0</td>\n      <td>0.0</td>\n      <td>0.0</td>\n      <td>0.0</td>\n      <td>0.0</td>\n      <td>0.0</td>\n      <td>0.0</td>\n      <td>0.0</td>\n    </tr>\n    <tr>\n      <th>3</th>\n      <td>3.624479</td>\n      <td>-0.616804</td>\n      <td>-0.906743</td>\n      <td>0.037863</td>\n      <td>-0.941831</td>\n      <td>0.205213</td>\n      <td>0.0</td>\n      <td>1.0</td>\n      <td>0.0</td>\n      <td>0.0</td>\n      <td>...</td>\n      <td>0.0</td>\n      <td>0.0</td>\n      <td>0.0</td>\n      <td>0.0</td>\n      <td>0.0</td>\n      <td>0.0</td>\n      <td>0.0</td>\n      <td>0.0</td>\n      <td>0.0</td>\n      <td>0.0</td>\n    </tr>\n    <tr>\n      <th>4</th>\n      <td>3.624479</td>\n      <td>-0.370698</td>\n      <td>-1.085888</td>\n      <td>-0.032525</td>\n      <td>-1.097735</td>\n      <td>0.132753</td>\n      <td>0.0</td>\n      <td>1.0</td>\n      <td>0.0</td>\n      <td>0.0</td>\n      <td>...</td>\n      <td>0.0</td>\n      <td>0.0</td>\n      <td>0.0</td>\n      <td>0.0</td>\n      <td>0.0</td>\n      <td>0.0</td>\n      <td>0.0</td>\n      <td>0.0</td>\n      <td>0.0</td>\n      <td>0.0</td>\n    </tr>\n  </tbody>\n</table>\n<p>5 rows × 1713 columns</p>\n</div>"
     },
     "metadata": {},
     "execution_count": 9
    }
   ],
   "source": [
    "df = pd.read_csv(\"clean-data.csv\")\n",
    "df.head()"
   ]
  },
  {
   "source": [
    "### WTF this? \n",
    "Data has been cleaned and preprocessed for a model.\n",
    "- First column is the target variable.\n",
    "- Other columns are the features."
   ],
   "cell_type": "markdown",
   "metadata": {}
  },
  {
   "source": [
    "### Split data for training"
   ],
   "cell_type": "markdown",
   "metadata": {}
  },
  {
   "cell_type": "code",
   "execution_count": null,
   "metadata": {},
   "outputs": [],
   "source": [
    "y = df.iloc[:,0]\n",
    "X = df.iloc[:,1:]\n",
    "X_train, X_test, y_train, y_test = train_test_split(X, y, test_size=0.2,random_state=0)"
   ]
  },
  {
   "source": [
    "# Model Pipeline"
   ],
   "cell_type": "markdown",
   "metadata": {}
  },
  {
   "source": [
    "###  Want to compare a lot of different models?"
   ],
   "cell_type": "markdown",
   "metadata": {}
  },
  {
   "cell_type": "code",
   "execution_count": 45,
   "metadata": {},
   "outputs": [
    {
     "output_type": "stream",
     "name": "stdout",
     "text": [
      "1.8321855771650648e+22\n",
      "44.83490234643944\n",
      "58.0256951629988\n"
     ]
    }
   ],
   "source": [
    "\n",
    "models = [LinearRegression(), XGBRegressor(), MLPRegressor(max_iter=100)]\n",
    "pipeline = Pipeline(steps=[('model', LinearRegression())])\n",
    "results= []\n",
    "for classifier in models:\n",
    "    pipeline.set_params(model = classifier)\n",
    "    pipeline.fit(X_train, y_train)\n",
    "    mse = mean_squared_error(y_test, pipeline.predict(X_test))\n",
    "    print(mse)\n",
    "    results.append(mse)\n"
   ]
  },
  {
   "cell_type": "code",
   "execution_count": 54,
   "metadata": {},
   "outputs": [
    {
     "output_type": "execute_result",
     "data": {
      "text/plain": [
       "   LinearRegression()  \\\n",
       "0        1.832186e+22   \n",
       "\n",
       "   XGBRegressor(base_score=0.5, booster='gbtree', colsample_bylevel=1,\\n             colsample_bynode=1, colsample_bytree=1, gamma=0, gpu_id=-1,\\n             importance_type='gain', interaction_constraints='',\\n             learning_rate=0.300000012, max_delta_step=0, max_depth=6,\\n             min_child_weight=1, missing=nan, monotone_constraints='()',\\n             n_estimators=100, n_jobs=4, num_parallel_tree=1, random_state=0,\\n             reg_alpha=0, reg_lambda=1, scale_pos_weight=1, subsample=1,\\n             tree_method='exact', validate_parameters=1, verbosity=None)  \\\n",
       "0                                          44.834902                                                                                                                                                                                                                                                                                                                                                                                                                                                                                                                                                      \n",
       "\n",
       "   MLPRegressor(max_iter=500)  \n",
       "0                   58.025695  "
      ],
      "text/html": "<div>\n<style scoped>\n    .dataframe tbody tr th:only-of-type {\n        vertical-align: middle;\n    }\n\n    .dataframe tbody tr th {\n        vertical-align: top;\n    }\n\n    .dataframe thead th {\n        text-align: right;\n    }\n</style>\n<table border=\"1\" class=\"dataframe\">\n  <thead>\n    <tr style=\"text-align: right;\">\n      <th></th>\n      <th>LinearRegression()</th>\n      <th>XGBRegressor(base_score=0.5, booster='gbtree', colsample_bylevel=1,\\n             colsample_bynode=1, colsample_bytree=1, gamma=0, gpu_id=-1,\\n             importance_type='gain', interaction_constraints='',\\n             learning_rate=0.300000012, max_delta_step=0, max_depth=6,\\n             min_child_weight=1, missing=nan, monotone_constraints='()',\\n             n_estimators=100, n_jobs=4, num_parallel_tree=1, random_state=0,\\n             reg_alpha=0, reg_lambda=1, scale_pos_weight=1, subsample=1,\\n             tree_method='exact', validate_parameters=1, verbosity=None)</th>\n      <th>MLPRegressor(max_iter=500)</th>\n    </tr>\n  </thead>\n  <tbody>\n    <tr>\n      <th>0</th>\n      <td>1.832186e+22</td>\n      <td>44.834902</td>\n      <td>58.025695</td>\n    </tr>\n  </tbody>\n</table>\n</div>"
     },
     "metadata": {},
     "execution_count": 54
    }
   ],
   "source": [
    "model_names = [str(clf) for clf in models]\n",
    "pd.DataFrame(results, index = model_names).T"
   ]
  },
  {
   "source": [
    "WOOH! XGBOOST for the win! Let's just go with this good model.\n",
    "\n",
    "WTF? Linear Regression does so bad?\n",
    "- The number of columns in the preprocessed data is 1712 and linear regressions are not that accurate with a large number of parameters."
   ],
   "cell_type": "markdown",
   "metadata": {}
  },
  {
   "cell_type": "code",
   "execution_count": 12,
   "metadata": {},
   "outputs": [
    {
     "output_type": "execute_result",
     "data": {
      "text/plain": [
       "(5449, 1712)"
      ]
     },
     "metadata": {},
     "execution_count": 12
    }
   ],
   "source": [
    "pd.DataFrame(X_train).shape"
   ]
  }
 ]
}